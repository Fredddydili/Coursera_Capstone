{
    "nbformat_minor": 1, 
    "cells": [
        {
            "source": "# Capstone Project - The Battles of Neighborhoods\nBy Freddy Li (Jul, 2019)", 
            "cell_type": "markdown", 
            "metadata": {
                "collapsed": true
            }
        }, 
        {
            "source": "## Introduction", 
            "cell_type": "markdown", 
            "metadata": {}
        }, 
        {
            "source": "The project is mainly to solve the question that if someone plan to open a restaurant in Manhattan, New York City, how he should choose the location and what type of restaurant is the best choice. To solve the problem, the neighborhoods in Manhattan, New York city is clustered based on the data from Foursqaure, and selected according to total checkin count and user count to reflect the popularity of the neighborhoods. Next, the hotest venues are filtered out with the next 5 venues to go and category information. After this step, the keywords of category, including \"food\", \"restaurant\" and \"cafe\", are used on the next-venues info to generate a list of hottest venues. The restaurant is recommended to open near these venues within the popular neighborhoods of Manhattan. The investors, restaurants and food providers would feel interested in this project to help them make decission of location.", 
            "cell_type": "markdown", 
            "metadata": {}
        }, 
        {
            "source": "## Data", 
            "cell_type": "markdown", 
            "metadata": {}
        }, 
        {
            "source": "To process this project, New York Neighborhoods data and detailed geographic data with venues information are used.\n\n- New York Neighborhoods data: The data is from [2014 New York City Neighborhood Names](https://geo.nyu.edu/catalog/nyu_2451_34572) provided by Department of City Planning, NY to give out neighborhoods' names and locations. \n- Geographic Data: The data is from [Foursquare API](https://foursquare.com/). The endpoints including venues explore, categories, next venues, like-a-venue, stats of venues and like-a-checkin are used to get the key information. ", 
            "cell_type": "markdown", 
            "metadata": {}
        }, 
        {
            "execution_count": null, 
            "cell_type": "code", 
            "metadata": {}, 
            "outputs": [], 
            "source": ""
        }
    ], 
    "metadata": {
        "kernelspec": {
            "display_name": "Python 3.6", 
            "name": "python3", 
            "language": "python"
        }, 
        "language_info": {
            "mimetype": "text/x-python", 
            "nbconvert_exporter": "python", 
            "version": "3.6.8", 
            "name": "python", 
            "file_extension": ".py", 
            "pygments_lexer": "ipython3", 
            "codemirror_mode": {
                "version": 3, 
                "name": "ipython"
            }
        }
    }, 
    "nbformat": 4
}